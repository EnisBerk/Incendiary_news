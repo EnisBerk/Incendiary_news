{
 "cells": [
  {
   "cell_type": "code",
   "execution_count": 4,
   "metadata": {},
   "outputs": [],
   "source": [
    "import json\n",
    "import nltk \n",
    "import string\n",
    "import copy\n",
    "import random\n",
    "from os import listdir\n",
    "import pickle\n",
    "\n",
    "\n",
    "\n",
    "import numpy as np\n",
    "\n",
    "import string\n",
    "import re\n",
    "\n",
    "from nltk.stem.porter import *\n",
    "from nltk.corpus import stopwords\n",
    "from TurkishStemmer import TurkishStemmer\n",
    "\n",
    "\n",
    "from sklearn.model_selection import train_test_split\n",
    "from sklearn.pipeline import Pipeline\n",
    "from sklearn.linear_model import LogisticRegression\n",
    "from sklearn.feature_selection import SelectFromModel\n",
    "from sklearn.metrics import classification_report\n",
    "from sklearn.svm import LinearSVC\n",
    "from sklearn.naive_bayes import MultinomialNB\n",
    "from sklearn.tree import DecisionTreeClassifier\n",
    "from sklearn import tree\n",
    "from sklearn.ensemble import RandomForestClassifier\n",
    "from sklearn.neural_network import MLPClassifier\n",
    "from sklearn.ensemble import AdaBoostClassifier\n",
    "from sklearn.naive_bayes import GaussianNB\n",
    "from sklearn.feature_extraction.text import TfidfVectorizer\n",
    "\n",
    "from sklearn.feature_extraction.text import CountVectorizer\n",
    "from sklearn.feature_extraction.text import TfidfTransformer\n",
    "from sklearn.linear_model import SGDClassifier,LinearRegression\n",
    "from sklearn.model_selection import GridSearchCV\n",
    "\n",
    "from sklearn.metrics import accuracy_score\n",
    "\n",
    "\n",
    "from pos_tagger import tag\n",
    "\n",
    "import warnings\n",
    "warnings.simplefilter(action='ignore', category=FutureWarning)"
   ]
  },
  {
   "cell_type": "code",
   "execution_count": 8,
   "metadata": {},
   "outputs": [],
   "source": [
    "all_dicts = pickle.load( open( \"./data/clean_data.p\", \"rb\" ) )\n",
    "\n",
    "article_text_dict_positive=all_dicts[\"article_text_dict_positive\"]\n",
    "iter1_BBC_text_dict_neg=all_dicts[\"iter1_BBC_text_dict_neg\"]\n",
    "iter2_BBC_text_dict_neg=all_dicts[\"iter2_BBC_text_dict_neg\"]\n",
    "iter1_CNN_neg_text=all_dicts[\"iter1_CNN_neg_text\"]"
   ]
  },
  {
   "cell_type": "code",
   "execution_count": 9,
   "metadata": {},
   "outputs": [
    {
     "name": "stdout",
     "output_type": "stream",
     "text": [
      "1038\n",
      "1043\n",
      "948\n",
      "1037\n"
     ]
    }
   ],
   "source": [
    "print(len(iter1_BBC_text_dict_neg))\n",
    "print(len(iter2_BBC_text_dict_neg))\n",
    "print(len(iter1_CNN_neg_text))\n",
    "print(len(article_text_dict_positive))"
   ]
  },
  {
   "cell_type": "code",
   "execution_count": 5,
   "metadata": {
    "collapsed": true
   },
   "outputs": [],
   "source": [
    "lowercase=' abcdefghijklmnoprstuvyzğöıüşç'\n",
    "stemmer = TurkishStemmer()\n",
    "\n",
    "# There are different tokenization functions\n",
    "\n",
    "# first one is tokenizes with nltk, lowers text \n",
    "# and applies stemming to each word\n",
    "def tokenize_stem(text):\n",
    "    \"\"\"Removes punctuation & excess whitespace, sets to lowercase,\n",
    "    and stems text. Returns a list of them\"\"\"\n",
    "    text=nltk.word_tokenize(text.lower().strip())\n",
    "    tokens = [stemmer.stem(t) for t in text]\n",
    "    return tokens\n",
    "\n",
    "\n",
    "# lowers text\n",
    "# generates part of speech tags  \n",
    "# returns \"word+tag\" \n",
    "# tokenization made with tagging library\n",
    "def pos_tokenize(text):\n",
    "    text=text.lower().strip()\n",
    "    tokens=[]\n",
    "    tags=tag(text)\n",
    "    for a_tag in tags:\n",
    "        tokens.append(a_tag[0]+\"+\"+a_tag[1])\n",
    "    return tokens\n",
    "\n",
    "# lowers text\n",
    "# splits text to it's characters\n",
    "def char_tokenize(text):\n",
    "    text = text.lower().strip()\n",
    "    tokens = [t for t in text]\n",
    "    return tokens\n",
    "\n"
   ]
  },
  {
   "cell_type": "code",
   "execution_count": 6,
   "metadata": {
    "collapsed": true
   },
   "outputs": [],
   "source": [
    "features={\"Pos_tags\":pos_tokenize,\"characters\":char_tokenize,\"tokenize\":nltk.word_tokenize,\"tokenize_stem\":tokenize_stem}\n"
   ]
  },
  {
   "cell_type": "code",
   "execution_count": 7,
   "metadata": {
    "collapsed": true
   },
   "outputs": [],
   "source": [
    "def run_experiment_w_features(X_train,X_test,y_train,y_test,feature,n_range,theclassifiers,vectorizer=None):\n",
    "    if vectorizer==None:\n",
    "        vectorizer = TfidfVectorizer(\n",
    "            tokenizer= features[feature],\n",
    "#             cleaning itself\n",
    "#             preprocessor=word_process_clean,\n",
    "            ngram_range=n_range,\n",
    "            use_idf=True,\n",
    "            min_df=0.003,\n",
    "            norm=None, )\n",
    "        \n",
    "    \n",
    "    X_train = vectorizer.fit_transform(X_train).toarray()\n",
    "    X_test=vectorizer.transform(X_test).toarray()\n",
    "\n",
    "    if type(theclassifiers)!=list:\n",
    "        theclassifiers=[theclassifiers]\n",
    "    for theclassifier in theclassifiers:\n",
    "#       initialise classifier\n",
    "        clf= theclassifier()\n",
    "#     create model with tranining data\n",
    "        model = clf.fit(X_train, y_train)\n",
    "#     predict test set\n",
    "        y_preds = model.predict(X_test)\n",
    "#     create the report\n",
    "        report = classification_report( y_test, y_preds )\n",
    "    \n",
    "#     find name of the classifier for printing\n",
    "        match=re.search(r\"\\.([A-z]*)'>\",str(theclassifier))\n",
    "        match=match.group(1)\n",
    "\n",
    "        result_text=\"\\033[1m Performance report of \\033[0m \\033[92m\" + feature +\"\\033[0m \"\n",
    "        count=0\n",
    "        for i in range(n_range[0],n_range[1]+1):\n",
    "            if count!=0:\n",
    "                result_text+=\" and \"\n",
    "            result_text=result_text+\"\\033[91m\"+str(i)+\"-gram\\033[0m\"\n",
    "            count+=1\n",
    "        result_text+= \" with \\033[94m\"+match+\"\\033[0m\"\n",
    "    #     print(\"Performance report of {} {}-gram\".format(feature,n_range[1]))\n",
    "        print (result_text)\n",
    "#         prnt_scores(report)\n",
    "        print(report)\n",
    "        print(accuracy_score( y_test, y_preds))\n"
   ]
  },
  {
   "cell_type": "code",
   "execution_count": 8,
   "metadata": {
    "collapsed": true
   },
   "outputs": [],
   "source": []
  },
  {
   "cell_type": "code",
   "execution_count": null,
   "metadata": {},
   "outputs": [],
   "source": []
  },
  {
   "cell_type": "code",
   "execution_count": 10,
   "metadata": {},
   "outputs": [
    {
     "name": "stdout",
     "output_type": "stream",
     "text": [
      "train_pos 828 test_pos 208\n",
      "train_neg 824 test_neg 207\n",
      "X_train 1652 Y_train 1652 X_test 415 Y_test 415\n"
     ]
    }
   ],
   "source": [
    "pos_examp=[]\n",
    "neg_examp_train=[]\n",
    "neg_examp_test=[]\n",
    "\n",
    "for artc in article_text_dict_positive.values():\n",
    "    pos_examp.append((artc,1))\n",
    "\n",
    "for artc in iter2_BBC_text_dict_neg.values():\n",
    "    neg_examp_train.append((artc,0))\n",
    "\n",
    "for artc in iter1_CNN_neg_text.values():\n",
    "    neg_examp_test.append((artc,0))\n",
    "\n",
    "\n",
    "# combine positive and negative samples then shuffle\n",
    "# XY=pos_examp+neg_examp_train\n",
    "random.seed(a=2)\n",
    "random.shuffle(pos_examp)\n",
    "random.shuffle(neg_examp_train)\n",
    "random.shuffle(neg_examp_test)\n",
    "\n",
    "percentage=0.8\n",
    "cut_point=int(len(pos_examp)*percentage)\n",
    "train_pos=pos_examp[:cut_point]\n",
    "test_pos=pos_examp[cut_point:]\n",
    "\n",
    "cut_point=int(len(neg_examp_train)*percentage)\n",
    "train_neg=neg_examp_train[:cut_point]\n",
    "cut_point=int(len(neg_examp_train)*percentage)\n",
    "test_neg=neg_examp_train[cut_point:]\n",
    "\n",
    "print(\"train_pos\",len(train_pos),\"test_pos\",len(test_pos))\n",
    "print(\"train_neg\",len(train_neg),\"test_neg\",len(test_neg))\n",
    "\n",
    "XY_train=train_pos+train_neg\n",
    "random.shuffle(XY_train)\n",
    "X_train=[k[0] for k in XY_train]\n",
    "Y_train=[k[1] for k in XY_train]\n",
    "\n",
    "XY_test=test_pos+test_neg\n",
    "random.shuffle(XY_test)\n",
    "X_test=[k[0] for k in XY_test]\n",
    "Y_test=[k[1] for k in XY_test]\n",
    "\n",
    "print(\"X_train\",len(X_train),\"Y_train\",len(Y_train),\"X_test\",len(X_test),\"Y_test\",len(Y_test))\n",
    "\n"
   ]
  },
  {
   "cell_type": "code",
   "execution_count": 11,
   "metadata": {
    "collapsed": true
   },
   "outputs": [],
   "source": [
    "classifiers_list=[LinearSVC,MultinomialNB,RandomForestClassifier,\n",
    "                  AdaBoostClassifier]\n",
    "tryfeatures={\"tokenize\":nltk.word_tokenize,\"tokenize_stem\":tokenize_stem,\"Pos_tags\":pos_tokenize,\"characters\":char_tokenize}\n",
    "\n"
   ]
  },
  {
   "cell_type": "code",
   "execution_count": 20,
   "metadata": {},
   "outputs": [
    {
     "data": {
      "text/plain": [
       "1031"
      ]
     },
     "execution_count": 20,
     "metadata": {},
     "output_type": "execute_result"
    }
   ],
   "source": [
    "len(neg_examp_train)"
   ]
  },
  {
   "cell_type": "code",
   "execution_count": null,
   "metadata": {
    "collapsed": true
   },
   "outputs": [],
   "source": [
    "for clasifier in classifiers_list:\n",
    "    for feature in tryfeatures:\n",
    "        for i in range(1,4):\n",
    "            for k in range(i,4):\n",
    "                run_experiment_w_features(X_train[:],X_test[:],Y_train[:],Y_test[:],feature,(i,k),clasifier)\n"
   ]
  },
  {
   "cell_type": "code",
   "execution_count": null,
   "metadata": {
    "collapsed": true
   },
   "outputs": [],
   "source": [
    "slow_classifiers_list=[DecisionTreeClassifier,GaussianNB,MLPClassifier]\n",
    "for clasifier in slow_classifiers_list:\n",
    "    for feature in tryfeatures:\n",
    "        for i in range(1,4):\n",
    "            run_experiment_w_features(X_train[:],X_test[:],Y_train[:],Y_test[:],feature,(i,i),clasifier)"
   ]
  },
  {
   "cell_type": "code",
   "execution_count": null,
   "metadata": {
    "collapsed": true
   },
   "outputs": [],
   "source": [
    "myfile=open(\"results/4-(BBC-CNN).txt\")\n",
    "lines=myfile.readlines()\n",
    "myfile.close()"
   ]
  },
  {
   "cell_type": "code",
   "execution_count": null,
   "metadata": {
    "collapsed": true
   },
   "outputs": [],
   "source": []
  },
  {
   "cell_type": "code",
   "execution_count": null,
   "metadata": {
    "collapsed": true
   },
   "outputs": [],
   "source": [
    "print(*lines[9:18])\n",
    "print(*lines[18:27])\n",
    "print(lines[18].strip()[23:].split(\" \")[0])\n",
    "print(lines[9].strip()[23:].split(\" and \"))\n",
    "print(lines[9].strip()[23:].split(\" \")[0])"
   ]
  },
  {
   "cell_type": "code",
   "execution_count": null,
   "metadata": {
    "collapsed": true
   },
   "outputs": [],
   "source": []
  },
  {
   "cell_type": "code",
   "execution_count": null,
   "metadata": {
    "collapsed": true
   },
   "outputs": [],
   "source": [
    "for i in range(0,len(lines),9):\n",
    "    one_line=lines[i:i+9]\n",
    "    first_line=one_line[0].strip()[23:]\n",
    "    ngram=[]\n",
    "    ngrams=first_line.split(\" and \")\n",
    "    if len(ngrams)==2:\n",
    "        clasifier=first_line.split(\"with\")[1].strip()\n",
    "        ngram.append(ngrams[0][-6:])\n",
    "        ngram.append(ngrams[1][:6])\n",
    "        first_line=first_line.split(\" \")\n",
    "\n",
    "    elif len(ngrams)==3:\n",
    "        clasifier=first_line.split(\"with\")[1].strip()\n",
    "        ngram.append(ngrams[0][-6:])\n",
    "        ngram.append(ngrams[1])\n",
    "        ngram.append(ngrams[2][:6])\n",
    "        first_line=first_line.split(\" \")\n",
    "    else:\n",
    "        first_line=first_line.split(\" \")\n",
    "        ngram.append(first_line[1])\n",
    "        clasifier=first_line[3]\n",
    "    \n",
    "    feature=first_line[0]\n",
    "    precision=one_line[6].split(\" \")[9]\n",
    "    recall=one_line[6].split(\" \")[15]\n",
    "    f1score=one_line[6].split(\" \")[21]\n",
    "    accuray=one_line[8].strip()\n",
    "    for i,k in enumerate(ngram):\n",
    "        ngram[i]=k.split(\"-\")[0]\n",
    "#     +(\"%.2f\" % round(float(accuray),2))\n",
    "    if feature==\"characters\" and (ngram[0]==\"2\" ):\n",
    "        print(\"\\hline\")\n",
    "        print(classifiers_names[clasifier]+\" & \"+\",\".join(ngram)+\"-gram\"+\" & \"+precision+\" & \"+recall+\" & \"+f1score+\" \\\\\\\\\")\n",
    "#         print(feature,ngram,clasifier,accuray)\n"
   ]
  },
  {
   "cell_type": "code",
   "execution_count": null,
   "metadata": {
    "collapsed": true
   },
   "outputs": [],
   "source": [
    "\\hline\n",
    "Linear SVM (SVC) & 1-gram & 0.95 & 0.95 & 0.95 & 0.97 & 0.96 & 0.96 &  \\\\\n",
    "\\hline\n",
    "Linear SVM (SVC) & 1,2-gram & 0.96 & 0.96 & 0.96 & 0.98 & 0.98 & 0.98 &  \\\\\n",
    "\\hline\n",
    "Linear SVM (SVC) & 1,2,3-gram & 0.97 & 0.97 & 0.97 & 0.98 & 0.98 & 0.98 &  \\\\\n",
    "\\hline\n",
    "Multinomial NB & 1-gram & 0.95 & 0.94 & 0.94 & 0.97 & 0.96 & 0.96 &  \\\\\n",
    "\\hline\n",
    "Multinomial NB & 1,2-gram & 0.96 & 0.96 & 0.96 & 0.98 & 0.97 & 0.97 &  \\\\\n",
    "\\hline\n",
    "Multinomial NB & 1,2,3-gram & 0.96 & 0.96 & 0.96 & 0.98 & 0.97 & 0.97 &  \\\\\n",
    "\\hline\n",
    "Random Forest & 1-gram & 0.90 & 0.89 & 0.89 & 0.93 & 0.92 & 0.92 &  \\\\\n",
    "\\hline\n",
    "Random Forest & 1,2-gram & 0.91 & 0.90 & 0.90 & 0.94 & 0.93 & 0.93 &  \\\\\n",
    "\\hline\n",
    "Random Forest & 1,2,3-gram & 0.90 & 0.89 & 0.89 & 0.92 & 0.90 & 0.90 &  \\\\\n",
    "\\hline\n",
    "AdaBoost & 1-gram &0.88 & 0.88 & 0.88 & 0.26 & 0.46 & 0.33 &  \\\\\n",
    "\\hline\n",
    "AdaBoost & 1,2-gram &0.88 & 0.88 & 0.88 & 0.26 & 0.46 & 0.33 &  \\\\\n",
    "\\hline\n",
    "AdaBoost & 1,2,3-gram &0.88 & 0.88 & 0.88 & 0.26 & 0.46 & 0.33 &  \\\\\n",
    "\\hline\n",
    "Decision Tree & 1-gram &0.80 & 0.79 & 0.79 & 0.92 & 0.91 & 0.91 &  \\\\\n",
    "\\hline\n",
    "Gaussian NB & 1-gram &0.89 & 0.88 & 0.88 &  0.98 & 0.97 & 0.97 &  \\\\\n",
    "\\hline\n",
    "Multi-layer Perc. (MLP) & 1-gram &0.97 & 0.97 & 0.97 & 0.27 & 0.51 & 0.35 &  \\\\"
   ]
  },
  {
   "cell_type": "code",
   "execution_count": null,
   "metadata": {
    "collapsed": true
   },
   "outputs": [],
   "source": [
    "list(range(0,10,9))"
   ]
  },
  {
   "cell_type": "code",
   "execution_count": null,
   "metadata": {
    "collapsed": true
   },
   "outputs": [],
   "source": [
    "one_line=BBC_BBC_lines[9:9+9]"
   ]
  },
  {
   "cell_type": "code",
   "execution_count": null,
   "metadata": {
    "collapsed": true
   },
   "outputs": [],
   "source": [
    "one_line[0].strip()[23:].split(\"and\")"
   ]
  },
  {
   "cell_type": "code",
   "execution_count": null,
   "metadata": {
    "collapsed": true
   },
   "outputs": [],
   "source": [
    "for line in lines:\n",
    "    if \"Forest\" in line:\n",
    "        print (line.split(\"and\"))"
   ]
  },
  {
   "cell_type": "code",
   "execution_count": null,
   "metadata": {
    "collapsed": true
   },
   "outputs": [],
   "source": [
    "classifiers_names={\"LinearSVC\":\"Linear SVM (SVC)\",\"MultinomialNB\":\"Multinomial NB\",\"RandomForestClassifier\":\"Random Forest\",\n",
    "                  \"AdaBoostClassifier\":\"AdaBoost\",\"DecisionTreeClassifier\":\"Decision Tree\",\"GaussianNB\":\"Gaussian NB\",\"MLPClassifier\":\"Multi-layer Perc. (MLP)\"}"
   ]
  },
  {
   "cell_type": "code",
   "execution_count": null,
   "metadata": {
    "collapsed": true
   },
   "outputs": [],
   "source": [
    "from nltk.corpus import stopwords\n"
   ]
  },
  {
   "cell_type": "code",
   "execution_count": null,
   "metadata": {
    "collapsed": true
   },
   "outputs": [],
   "source": []
  }
 ],
 "metadata": {
  "kernelspec": {
   "display_name": "HPCenv_conda",
   "language": "python",
   "name": "hpcenv"
  },
  "language_info": {
   "codemirror_mode": {
    "name": "ipython",
    "version": 3
   },
   "file_extension": ".py",
   "mimetype": "text/x-python",
   "name": "python",
   "nbconvert_exporter": "python",
   "pygments_lexer": "ipython3",
   "version": "3.7.1"
  }
 },
 "nbformat": 4,
 "nbformat_minor": 2
}
